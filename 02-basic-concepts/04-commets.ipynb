{
 "cells": [
  {
   "cell_type": "code",
   "execution_count": null,
   "metadata": {},
   "outputs": [],
   "source": [
    "print(\"sample\") # This is an inline comment\n",
    "# This is a line comment\n",
    "\n",
    "# print(\"unused print\")\n",
    "\n",
    "\"\"\" This is also a comment \"\"\""
   ]
  }
 ],
 "metadata": {
  "language_info": {
   "name": "python"
  }
 },
 "nbformat": 4,
 "nbformat_minor": 2
}
