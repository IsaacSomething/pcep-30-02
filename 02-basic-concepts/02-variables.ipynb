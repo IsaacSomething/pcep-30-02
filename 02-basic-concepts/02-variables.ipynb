{
 "cells": [
  {
   "cell_type": "code",
   "execution_count": 2,
   "metadata": {},
   "outputs": [
    {
     "name": "stdout",
     "output_type": "stream",
     "text": [
      "Hello world!\n",
      "Hello universe\n"
     ]
    }
   ],
   "source": [
    "greeting = \"Hello world!\"\n",
    "print(greeting)\n",
    "\n",
    "greeting = \"Hello universe\"\n",
    "print(greeting)\n",
    "\n"
   ]
  },
  {
   "cell_type": "code",
   "execution_count": 3,
   "metadata": {},
   "outputs": [
    {
     "ename": "NameError",
     "evalue": "name 'alt_greeting' is not defined",
     "output_type": "error",
     "traceback": [
      "\u001b[1;31m---------------------------------------------------------------------------\u001b[0m",
      "\u001b[1;31mNameError\u001b[0m                                 Traceback (most recent call last)",
      "Cell \u001b[1;32mIn[3], line 1\u001b[0m\n\u001b[1;32m----> 1\u001b[0m \u001b[38;5;28mprint\u001b[39m(\u001b[43malt_greeting\u001b[49m)\n\u001b[0;32m      2\u001b[0m alt_greeting \u001b[38;5;241m=\u001b[39m \u001b[38;5;124m\"\u001b[39m\u001b[38;5;124mSup dawg world\u001b[39m\u001b[38;5;124m\"\u001b[39m\n",
      "\u001b[1;31mNameError\u001b[0m: name 'alt_greeting' is not defined"
     ]
    }
   ],
   "source": [
    "# Undefined error\n",
    "print(alt_greeting)\n",
    "alt_greeting = \"Sup dawg world\""
   ]
  },
  {
   "cell_type": "code",
   "execution_count": null,
   "metadata": {},
   "outputs": [],
   "source": [
    "_this_is_a_variable = '...'\n",
    "this_is_a_variable = '...'\n",
    "this_is_a_variable2600 = '...'\n",
    "2600this_is_a_variable2600 = '...' # This is not going to work\n",
    "\n",
    "# Casing matters, these 2 variables are not the same\n",
    "variable1 = \"...\"\n",
    "Variable1 = \"...\""
   ]
  },
  {
   "cell_type": "code",
   "execution_count": null,
   "metadata": {},
   "outputs": [],
   "source": [
    "# keywords that cannot be used\n",
    "from = \"...\"\n",
    "global = \"...\""
   ]
  },
  {
   "cell_type": "code",
   "execution_count": null,
   "metadata": {},
   "outputs": [],
   "source": []
  }
 ],
 "metadata": {
  "kernelspec": {
   "display_name": "Python 3",
   "language": "python",
   "name": "python3"
  },
  "language_info": {
   "codemirror_mode": {
    "name": "ipython",
    "version": 3
   },
   "file_extension": ".py",
   "mimetype": "text/x-python",
   "name": "python",
   "nbconvert_exporter": "python",
   "pygments_lexer": "ipython3",
   "version": "3.11.7"
  }
 },
 "nbformat": 4,
 "nbformat_minor": 2
}
